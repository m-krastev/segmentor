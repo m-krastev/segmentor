{
 "cells": [
  {
   "cell_type": "code",
   "execution_count": 1,
   "metadata": {},
   "outputs": [
    {
     "data": {
      "text/html": [
       "<div><style>\n",
       ".dataframe > thead > tr,\n",
       ".dataframe > tbody > tr {\n",
       "  text-align: right;\n",
       "  white-space: pre-wrap;\n",
       "}\n",
       "</style>\n",
       "<small>shape: (298, 14)</small><table border=\"1\" class=\"dataframe\"><thead><tr><th>image_id</th><th>age</th><th>gender</th><th>institute</th><th>study_type</th><th>manufacturer</th><th>scanner_model</th><th>slice_thickness</th><th>scanning_sequence</th><th>repetition_time</th><th>echo_time</th><th>magnetic_field_strength</th><th>source</th><th>split</th></tr><tr><td>str</td><td>f64</td><td>str</td><td>str</td><td>str</td><td>str</td><td>str</td><td>f64</td><td>str</td><td>f64</td><td>f64</td><td>f64</td><td>str</td><td>str</td></tr></thead><tbody><tr><td>&quot;s0001&quot;</td><td>null</td><td>null</td><td>&quot;C&quot;</td><td>&quot;unkown&quot;</td><td>&quot;ge&quot;</td><td>&quot;SIGNA Explorer&quot;</td><td>4.4</td><td>&quot;GR&quot;</td><td>0.01</td><td>0.0</td><td>1.5</td><td>&quot;idc&quot;</td><td>&quot;train&quot;</td></tr><tr><td>&quot;s0002&quot;</td><td>null</td><td>null</td><td>&quot;C&quot;</td><td>&quot;unkown&quot;</td><td>&quot;ge&quot;</td><td>&quot;Signa HDxt&quot;</td><td>6.0</td><td>&quot;SE&quot;</td><td>3.55</td><td>0.15</td><td>1.5</td><td>&quot;idc&quot;</td><td>&quot;test&quot;</td></tr><tr><td>&quot;s0003&quot;</td><td>null</td><td>null</td><td>&quot;C&quot;</td><td>&quot;unkown&quot;</td><td>&quot;ge&quot;</td><td>&quot;Optima MR450w&quot;</td><td>5.0</td><td>&quot;EP\\SE&quot;</td><td>8.0</td><td>0.1</td><td>1.5</td><td>&quot;idc&quot;</td><td>&quot;train&quot;</td></tr><tr><td>&quot;s0004&quot;</td><td>null</td><td>null</td><td>&quot;C&quot;</td><td>&quot;unkown&quot;</td><td>&quot;ge&quot;</td><td>&quot;Signa HDxt&quot;</td><td>3.0</td><td>&quot;SE&quot;</td><td>2.43</td><td>0.11</td><td>1.5</td><td>&quot;idc&quot;</td><td>&quot;train&quot;</td></tr><tr><td>&quot;s0005&quot;</td><td>null</td><td>null</td><td>&quot;C&quot;</td><td>&quot;unkown&quot;</td><td>&quot;ge&quot;</td><td>&quot;GENESIS_SIGNA&quot;</td><td>8.0</td><td>&quot;SE&quot;</td><td>1.53</td><td>0.16</td><td>1.5</td><td>&quot;idc&quot;</td><td>&quot;train&quot;</td></tr><tr><td>&hellip;</td><td>&hellip;</td><td>&hellip;</td><td>&hellip;</td><td>&hellip;</td><td>&hellip;</td><td>&hellip;</td><td>&hellip;</td><td>&hellip;</td><td>&hellip;</td><td>&hellip;</td><td>&hellip;</td><td>&hellip;</td><td>&hellip;</td></tr><tr><td>&quot;s0294&quot;</td><td>70.0</td><td>&quot;m&quot;</td><td>&quot;B&quot;</td><td>&quot;mri thoracic spine&quot;</td><td>&quot;siemens&quot;</td><td>&quot;Avanto_fit&quot;</td><td>3.0</td><td>&quot;GR&quot;</td><td>6.68</td><td>2.39</td><td>1.5</td><td>&quot;usb&quot;</td><td>&quot;train&quot;</td></tr><tr><td>&quot;s0295&quot;</td><td>86.0</td><td>&quot;m&quot;</td><td>&quot;B&quot;</td><td>&quot;mri abdomen&quot;</td><td>&quot;siemens&quot;</td><td>&quot;Avanto_fit&quot;</td><td>3.0</td><td>&quot;GR&quot;</td><td>6.68</td><td>2.39</td><td>1.5</td><td>&quot;usb&quot;</td><td>&quot;train&quot;</td></tr><tr><td>&quot;s0296&quot;</td><td>74.0</td><td>&quot;m&quot;</td><td>&quot;B&quot;</td><td>&quot;mri knee&quot;</td><td>&quot;siemens&quot;</td><td>&quot;Skyra&quot;</td><td>3.0</td><td>&quot;SE&quot;</td><td>3270.0</td><td>35.0</td><td>3.0</td><td>&quot;usb&quot;</td><td>&quot;train&quot;</td></tr><tr><td>&quot;s0297&quot;</td><td>24.0</td><td>&quot;m&quot;</td><td>&quot;B&quot;</td><td>&quot;mri lumbar spine&quot;</td><td>&quot;siemens&quot;</td><td>&quot;Avanto_fit&quot;</td><td>4.0</td><td>&quot;SE&quot;</td><td>449.0</td><td>12.0</td><td>1.5</td><td>&quot;usb&quot;</td><td>&quot;train&quot;</td></tr><tr><td>&quot;s0298&quot;</td><td>30.0</td><td>&quot;m&quot;</td><td>&quot;D&quot;</td><td>&quot;mri pelvis hip&quot;</td><td>&quot;siemens&quot;</td><td>&quot;MAGNETOM Vida&quot;</td><td>3.0</td><td>&quot;SE&quot;</td><td>857.0</td><td>9.1</td><td>3.0</td><td>&quot;usb&quot;</td><td>&quot;train&quot;</td></tr></tbody></table></div>"
      ],
      "text/plain": [
       "shape: (298, 14)\n",
       "┌──────────┬──────┬────────┬───────────┬───┬───────────┬─────────────────────────┬────────┬───────┐\n",
       "│ image_id ┆ age  ┆ gender ┆ institute ┆ … ┆ echo_time ┆ magnetic_field_strength ┆ source ┆ split │\n",
       "│ ---      ┆ ---  ┆ ---    ┆ ---       ┆   ┆ ---       ┆ ---                     ┆ ---    ┆ ---   │\n",
       "│ str      ┆ f64  ┆ str    ┆ str       ┆   ┆ f64       ┆ f64                     ┆ str    ┆ str   │\n",
       "╞══════════╪══════╪════════╪═══════════╪═══╪═══════════╪═════════════════════════╪════════╪═══════╡\n",
       "│ s0001    ┆ null ┆ null   ┆ C         ┆ … ┆ 0.0       ┆ 1.5                     ┆ idc    ┆ train │\n",
       "│ s0002    ┆ null ┆ null   ┆ C         ┆ … ┆ 0.15      ┆ 1.5                     ┆ idc    ┆ test  │\n",
       "│ s0003    ┆ null ┆ null   ┆ C         ┆ … ┆ 0.1       ┆ 1.5                     ┆ idc    ┆ train │\n",
       "│ s0004    ┆ null ┆ null   ┆ C         ┆ … ┆ 0.11      ┆ 1.5                     ┆ idc    ┆ train │\n",
       "│ s0005    ┆ null ┆ null   ┆ C         ┆ … ┆ 0.16      ┆ 1.5                     ┆ idc    ┆ train │\n",
       "│ …        ┆ …    ┆ …      ┆ …         ┆ … ┆ …         ┆ …                       ┆ …      ┆ …     │\n",
       "│ s0294    ┆ 70.0 ┆ m      ┆ B         ┆ … ┆ 2.39      ┆ 1.5                     ┆ usb    ┆ train │\n",
       "│ s0295    ┆ 86.0 ┆ m      ┆ B         ┆ … ┆ 2.39      ┆ 1.5                     ┆ usb    ┆ train │\n",
       "│ s0296    ┆ 74.0 ┆ m      ┆ B         ┆ … ┆ 35.0      ┆ 3.0                     ┆ usb    ┆ train │\n",
       "│ s0297    ┆ 24.0 ┆ m      ┆ B         ┆ … ┆ 12.0      ┆ 1.5                     ┆ usb    ┆ train │\n",
       "│ s0298    ┆ 30.0 ┆ m      ┆ D         ┆ … ┆ 9.1       ┆ 3.0                     ┆ usb    ┆ train │\n",
       "└──────────┴──────┴────────┴───────────┴───┴───────────┴─────────────────────────┴────────┴───────┘"
      ]
     },
     "execution_count": 1,
     "metadata": {},
     "output_type": "execute_result"
    }
   ],
   "source": [
    "import polars as pl\n",
    "\n",
    "df = pl.read_csv(\"../data/totalsegmentatormri/meta.csv\", separator=\";\")\n",
    "df"
   ]
  },
  {
   "cell_type": "code",
   "execution_count": 13,
   "metadata": {},
   "outputs": [
    {
     "data": {
      "text/plain": [
       "tensor([[[[1., 2.],\n",
       "          [2., 3.]]]])"
      ]
     },
     "execution_count": 13,
     "metadata": {},
     "output_type": "execute_result"
    }
   ],
   "source": [
    "import torch\n",
    "\n",
    "a = torch.tensor([[0,1,2,1,0], [1,2,3,2,1], [2,3,4,3,2], [1,2,3,2,1], [0,1,2,1,0]],dtype=torch.float32).unsqueeze(0).unsqueeze(0)\n",
    "b = torch.nn.Conv2d(1,1,3, bias=False)\n",
    "\n",
    "\n",
    "b.weight.data.copy_(torch.tensor([[[[2,2.5,2], [2.5,3,2.5], [2,2.5,2]]]]))\n",
    "b(a)\n",
    "\n",
    "torch.nn.functional.avg_pool2d(a,(2,2), stride=2)"
   ]
  }
 ],
 "metadata": {
  "kernelspec": {
   "display_name": ".venv",
   "language": "python",
   "name": "python3"
  },
  "language_info": {
   "codemirror_mode": {
    "name": "ipython",
    "version": 3
   },
   "file_extension": ".py",
   "mimetype": "text/x-python",
   "name": "python",
   "nbconvert_exporter": "python",
   "pygments_lexer": "ipython3",
   "version": "3.12.7"
  }
 },
 "nbformat": 4,
 "nbformat_minor": 2
}
